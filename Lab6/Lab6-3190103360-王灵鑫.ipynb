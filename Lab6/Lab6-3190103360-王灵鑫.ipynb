{
 "metadata": {
  "language_info": {
   "codemirror_mode": {
    "name": "ipython",
    "version": 3
   },
   "file_extension": ".py",
   "mimetype": "text/x-python",
   "name": "python",
   "nbconvert_exporter": "python",
   "pygments_lexer": "ipython3",
   "version": 3
  },
  "orig_nbformat": 2,
  "kernelspec": {
   "name": "python_defaultSpec_1595379324956",
   "display_name": "Python 3.7.7 64-bit ('tf1.15': conda)"
  }
 },
 "nbformat": 4,
 "nbformat_minor": 2,
 "cells": [
  {
   "cell_type": "markdown",
   "metadata": {},
   "source": [
    "# CNN分类MNIST数据集"
   ]
  },
  {
   "cell_type": "markdown",
   "metadata": {},
   "source": [
    "## CNN模型设定"
   ]
  },
  {
   "cell_type": "code",
   "execution_count": 1,
   "metadata": {
    "tags": []
   },
   "outputs": [
    {
     "output_type": "stream",
     "name": "stdout",
     "text": "WARNING:tensorflow:From <ipython-input-1-19138ba2d08b>:5: read_data_sets (from tensorflow.contrib.learn.python.learn.datasets.mnist) is deprecated and will be removed in a future version.\nInstructions for updating:\nPlease use alternatives such as official/mnist/dataset.py from tensorflow/models.\nWARNING:tensorflow:From D:\\anaconda3\\envs\\tf1.15\\lib\\site-packages\\tensorflow_core\\contrib\\learn\\python\\learn\\datasets\\mnist.py:260: maybe_download (from tensorflow.contrib.learn.python.learn.datasets.base) is deprecated and will be removed in a future version.\nInstructions for updating:\nPlease write your own downloading logic.\nWARNING:tensorflow:From D:\\anaconda3\\envs\\tf1.15\\lib\\site-packages\\tensorflow_core\\contrib\\learn\\python\\learn\\datasets\\mnist.py:262: extract_images (from tensorflow.contrib.learn.python.learn.datasets.mnist) is deprecated and will be removed in a future version.\nInstructions for updating:\nPlease use tf.data to implement this functionality.\nExtracting MNIST_data/train-images-idx3-ubyte.gz\nWARNING:tensorflow:From D:\\anaconda3\\envs\\tf1.15\\lib\\site-packages\\tensorflow_core\\contrib\\learn\\python\\learn\\datasets\\mnist.py:267: extract_labels (from tensorflow.contrib.learn.python.learn.datasets.mnist) is deprecated and will be removed in a future version.\nInstructions for updating:\nPlease use tf.data to implement this functionality.\nExtracting MNIST_data/train-labels-idx1-ubyte.gz\nWARNING:tensorflow:From D:\\anaconda3\\envs\\tf1.15\\lib\\site-packages\\tensorflow_core\\contrib\\learn\\python\\learn\\datasets\\mnist.py:110: dense_to_one_hot (from tensorflow.contrib.learn.python.learn.datasets.mnist) is deprecated and will be removed in a future version.\nInstructions for updating:\nPlease use tf.one_hot on tensors.\nExtracting MNIST_data/t10k-images-idx3-ubyte.gz\nExtracting MNIST_data/t10k-labels-idx1-ubyte.gz\nWARNING:tensorflow:From D:\\anaconda3\\envs\\tf1.15\\lib\\site-packages\\tensorflow_core\\contrib\\learn\\python\\learn\\datasets\\mnist.py:290: DataSet.__init__ (from tensorflow.contrib.learn.python.learn.datasets.mnist) is deprecated and will be removed in a future version.\nInstructions for updating:\nPlease use alternatives such as official/mnist/dataset.py from tensorflow/models.\nWARNING:tensorflow:From <ipython-input-1-19138ba2d08b>:25: conv2d (from tensorflow.python.layers.convolutional) is deprecated and will be removed in a future version.\nInstructions for updating:\nUse `tf.keras.layers.Conv2D` instead.\nWARNING:tensorflow:From D:\\anaconda3\\envs\\tf1.15\\lib\\site-packages\\tensorflow_core\\python\\layers\\convolutional.py:424: Layer.apply (from tensorflow.python.keras.engine.base_layer) is deprecated and will be removed in a future version.\nInstructions for updating:\nPlease use `layer.__call__` method instead.\nWARNING:tensorflow:From <ipython-input-1-19138ba2d08b>:29: max_pooling2d (from tensorflow.python.layers.pooling) is deprecated and will be removed in a future version.\nInstructions for updating:\nUse keras.layers.MaxPooling2D instead.\nWARNING:tensorflow:From <ipython-input-1-19138ba2d08b>:41: dense (from tensorflow.python.layers.core) is deprecated and will be removed in a future version.\nInstructions for updating:\nUse keras.layers.Dense instead.\n"
    }
   ],
   "source": [
    "import tensorflow as tf\n",
    "\n",
    "from tensorflow.examples.tutorials.mnist import input_data\n",
    "\n",
    "mnist = input_data.read_data_sets(\"MNIST_data/\", one_hot=True)\n",
    "# print(mnist.train.images.shape)  # (55000, 784)\n",
    "# print(mnist.train.labels.shape)  # (55000, 10)\n",
    "# print(mnist.test.images.shape)  # (10000, 784)\n",
    "# print(mnist.test.labels.shape)  # (10000, 10)\n",
    "\n",
    "# input x shape (batch,28*28)\n",
    "x = tf.placeholder(tf.float32, [None, 784])\n",
    "# input gt_y shape (batch,10)\n",
    "gt_y = tf.placeholder(tf.float32, [None, 10])\n",
    "\n",
    "# 将平铺的图像转换为三维矩阵,黑白minist数据集通道数为1\n",
    "# image shape (batch,28,28,1)\n",
    "# 使用tf.reshape\n",
    "image = tf.reshape(x, [-1, 28, 28, 1])\n",
    "\n",
    "#直接调用封装好的tf.layers.conv2d，或者是使用tf.nn.conv2d需要自己定义卷积核\n",
    "#查阅相关相关资料完成参数的填写\n",
    "#通道数为16，卷积核大小为5x5，步长为1，填充方式为same\n",
    "# 输出图像大小-> (28, 28, 16)\n",
    "conv1 = tf.layers.conv2d(inputs = image, filters = 16, kernel_size = 5, padding = \"same\")\n",
    "#直接调用分装好的池化tf.layers.max_pooling2d 或者使用tf.nn.max_pool\n",
    "#步长为2，池化窗口为2x2\n",
    "# 输出图像大小-> (14, 14, 16)\n",
    "pool1 = tf.layers.max_pooling2d(inputs = conv1, strides = 2, pool_size = (2,2))\n",
    "\n",
    "#第二次卷积，通道数为32，卷积核大小为5x5，步长为1，填充方式为same\n",
    "# 输出图像大小-> (14, 14, 32)\n",
    "conv2 = tf.layers.conv2d(inputs = pool1, filters = 32, kernel_size = 5, padding = \"same\")\n",
    "#步长为2，池化窗口为2x2\n",
    "# 输出图像大小-> (7, 7, 32)\n",
    "pool2 = tf.layers.max_pooling2d(inputs = conv2, strides = 2, pool_size = (2,2))\n",
    "\n",
    "# 通过tf.reshape将图像平铺-> (7*7*32)\n",
    "flat = tf.reshape(pool2, [-1, 7*7*32])\n",
    "# 通过封装好的全连接层tf.layers.dense获得预测的标签分布，共10分类\n",
    "pred_y = tf.layers.dense(inputs = flat, units = 10, activation = tf.nn.relu)\n",
    "\n",
    "#通过tf.nn.softmax_cross_entropy_with_logits_v2定义交叉熵损失函数\n",
    "loss= tf.nn.softmax_cross_entropy_with_logits_v2(labels = gt_y, logits = pred_y)\n",
    "#通过tf.reduce_mean将多个样本的损失求均值\n",
    "loss= tf.reduce_mean(loss)\n",
    "#通过tf.train.GradientDescentOptimizer(lr).minimize(loss)定义学习率和梯度更新的方法\n",
    "optim = tf.train.GradientDescentOptimizer(0.2).minimize(loss) #0.2似乎是最优的学习率"
   ]
  },
  {
   "cell_type": "markdown",
   "metadata": {},
   "source": [
    "## CNN训练\n",
    "\n",
    "-训练量为100"
   ]
  },
  {
   "cell_type": "code",
   "execution_count": 2,
   "metadata": {
    "tags": []
   },
   "outputs": [
    {
     "output_type": "stream",
     "name": "stdout",
     "text": "start training...\nstep 0 loss: 2.30\n0.9415\n"
    }
   ],
   "source": [
    "#初始化tensorflow\n",
    "with tf.Session() as sess:\n",
    "    #随机初始化参数\n",
    "    tf.global_variables_initializer().run()\n",
    "    print('start training...')\n",
    "\n",
    "    # training\n",
    "    for i in range(100):\n",
    "        # 在mnist.train中取100个训练数据\n",
    "        # batch_xs是形状为(100, 784)的图像数据，batch_ys是形如(100, 10)的实际标签\n",
    "        # batch_xs, batch_ys对应着两个占位符x和y_\n",
    "        batch_xs, batch_ys = mnist.train.next_batch(100)\n",
    "        # 在Session中运行train_step，运行时要传入占位符的值\n",
    "        #参考sess.run运行tensorflow，包括执行的占位符和输入数据，返回执行占位符的列表\n",
    "        _,step_loss=sess.run([optim,loss], feed_dict={x: batch_xs, gt_y: batch_ys})\n",
    "        if i%100==0:\n",
    "          print('step {} loss: {:.2f}'.format(i,step_loss))\n",
    "\n",
    "    # test\n",
    "    # tf.equal逐个判断两个矩阵中元素是否相等，tf.argmax求一个矩阵中最大的下标值\n",
    "    correct_prediction = tf.equal(tf.argmax(pred_y, 1), tf.argmax(gt_y, 1))\n",
    "    #计算精度\n",
    "    accuracy = tf.reduce_mean(tf.cast(correct_prediction, tf.float32))\n",
    "    #输入精度的占位符和喂给测试数据\n",
    "    acc_res=sess.run(accuracy, feed_dict={x: mnist.test.images, gt_y: mnist.test.labels}) # 0.9415\n",
    "    print(acc_res)"
   ]
  }
 ]
}