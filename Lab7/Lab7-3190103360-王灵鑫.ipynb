{
 "metadata": {
  "language_info": {
   "codemirror_mode": {
    "name": "ipython",
    "version": 3
   },
   "file_extension": ".py",
   "mimetype": "text/x-python",
   "name": "python",
   "nbconvert_exporter": "python",
   "pygments_lexer": "ipython3",
   "version": 3
  },
  "orig_nbformat": 2,
  "kernelspec": {
   "name": "python_defaultSpec_1595406024465",
   "display_name": "Python 3.7.7 64-bit ('tf1.15': conda)"
  }
 },
 "nbformat": 4,
 "nbformat_minor": 2,
 "cells": [
  {
   "cell_type": "markdown",
   "metadata": {},
   "source": [
    "# RNN分类MNIST数据集"
   ]
  },
  {
   "cell_type": "markdown",
   "metadata": {},
   "source": [
    "## RNN模型设定"
   ]
  },
  {
   "cell_type": "code",
   "execution_count": 1,
   "metadata": {
    "tags": []
   },
   "outputs": [
    {
     "output_type": "stream",
     "name": "stdout",
     "text": "WARNING:tensorflow:From <ipython-input-1-500ca88e57f1>:5: read_data_sets (from tensorflow.contrib.learn.python.learn.datasets.mnist) is deprecated and will be removed in a future version.\nInstructions for updating:\nPlease use alternatives such as official/mnist/dataset.py from tensorflow/models.\nWARNING:tensorflow:From D:\\anaconda3\\envs\\tf1.15\\lib\\site-packages\\tensorflow_core\\contrib\\learn\\python\\learn\\datasets\\mnist.py:260: maybe_download (from tensorflow.contrib.learn.python.learn.datasets.base) is deprecated and will be removed in a future version.\nInstructions for updating:\nPlease write your own downloading logic.\nWARNING:tensorflow:From D:\\anaconda3\\envs\\tf1.15\\lib\\site-packages\\tensorflow_core\\contrib\\learn\\python\\learn\\datasets\\mnist.py:262: extract_images (from tensorflow.contrib.learn.python.learn.datasets.mnist) is deprecated and will be removed in a future version.\nInstructions for updating:\nPlease use tf.data to implement this functionality.\nExtracting MNIST_data/train-images-idx3-ubyte.gz\nWARNING:tensorflow:From D:\\anaconda3\\envs\\tf1.15\\lib\\site-packages\\tensorflow_core\\contrib\\learn\\python\\learn\\datasets\\mnist.py:267: extract_labels (from tensorflow.contrib.learn.python.learn.datasets.mnist) is deprecated and will be removed in a future version.\nInstructions for updating:\nPlease use tf.data to implement this functionality.\nExtracting MNIST_data/train-labels-idx1-ubyte.gz\nWARNING:tensorflow:From D:\\anaconda3\\envs\\tf1.15\\lib\\site-packages\\tensorflow_core\\contrib\\learn\\python\\learn\\datasets\\mnist.py:110: dense_to_one_hot (from tensorflow.contrib.learn.python.learn.datasets.mnist) is deprecated and will be removed in a future version.\nInstructions for updating:\nPlease use tf.one_hot on tensors.\nExtracting MNIST_data/t10k-images-idx3-ubyte.gz\nExtracting MNIST_data/t10k-labels-idx1-ubyte.gz\nWARNING:tensorflow:From D:\\anaconda3\\envs\\tf1.15\\lib\\site-packages\\tensorflow_core\\contrib\\learn\\python\\learn\\datasets\\mnist.py:290: DataSet.__init__ (from tensorflow.contrib.learn.python.learn.datasets.mnist) is deprecated and will be removed in a future version.\nInstructions for updating:\nPlease use alternatives such as official/mnist/dataset.py from tensorflow/models.\nWARNING:tensorflow:From <ipython-input-1-500ca88e57f1>:23: LSTMCell.__init__ (from tensorflow.python.ops.rnn_cell_impl) is deprecated and will be removed in a future version.\nInstructions for updating:\nThis class is equivalent as tf.keras.layers.LSTMCell, and will be replaced by that in Tensorflow 2.0.\nWARNING:tensorflow:From <ipython-input-1-500ca88e57f1>:27: dynamic_rnn (from tensorflow.python.ops.rnn) is deprecated and will be removed in a future version.\nInstructions for updating:\nPlease use `keras.layers.RNN(cell)`, which is equivalent to this API\nWARNING:tensorflow:From D:\\anaconda3\\envs\\tf1.15\\lib\\site-packages\\tensorflow_core\\python\\ops\\rnn_cell_impl.py:958: Layer.add_variable (from tensorflow.python.keras.engine.base_layer) is deprecated and will be removed in a future version.\nInstructions for updating:\nPlease use `layer.add_weight` method instead.\nWARNING:tensorflow:From D:\\anaconda3\\envs\\tf1.15\\lib\\site-packages\\tensorflow_core\\python\\ops\\rnn_cell_impl.py:962: calling Zeros.__init__ (from tensorflow.python.ops.init_ops) with dtype is deprecated and will be removed in a future version.\nInstructions for updating:\nCall initializer instance with the dtype argument instead of passing it to the constructor\nWARNING:tensorflow:From <ipython-input-1-500ca88e57f1>:29: dense (from tensorflow.python.layers.core) is deprecated and will be removed in a future version.\nInstructions for updating:\nUse keras.layers.Dense instead.\nWARNING:tensorflow:From D:\\anaconda3\\envs\\tf1.15\\lib\\site-packages\\tensorflow_core\\python\\layers\\core.py:187: Layer.apply (from tensorflow.python.keras.engine.base_layer) is deprecated and will be removed in a future version.\nInstructions for updating:\nPlease use `layer.__call__` method instead.\n"
    }
   ],
   "source": [
    "import tensorflow as tf\n",
    "\n",
    "from tensorflow.examples.tutorials.mnist import input_data\n",
    "\n",
    "mnist = input_data.read_data_sets(\"MNIST_data/\", one_hot=True)\n",
    "# print(mnist.train.images.shape)  # (55000, 784)\n",
    "# print(mnist.train.labels.shape)  # (55000, 10)\n",
    "# print(mnist.test.images.shape)  # (10000, 784)\n",
    "# print(mnist.test.labels.shape)  # (10000, 10)\n",
    "\n",
    "# input x shape (batch,28*28)\n",
    "x = tf.placeholder(tf.float32, [None, 784])\n",
    "# input gt_y shape (batch,10)\n",
    "gt_y = tf.placeholder(tf.float32, [None, 10])\n",
    "\n",
    "# image reshape (batch, height, width)\n",
    "#注意我们这里把一张图片抽象成序列化的数据，height表示序列化文本的长度,width表示每个单词的维度\n",
    "image = tf.reshape(x, [-1, 28, 28])\n",
    "\n",
    "# RNN\n",
    "#首先构造一个循环神经网络的神经单元，他的隐藏状态和输出状态的维度相同设置为64\n",
    "#使用tf.nn.rnn_cell.LSTMCell或者GRUCell\n",
    "rnn_cell = tf.nn.rnn_cell.LSTMCell(num_units = 200, use_peepholes = True, num_proj = 200)\n",
    "#使用tf.nn.dynamic_rnn将循环神经网络单元构造成一个序列网络\n",
    "#循环神经网络的初始化状态可以自选设置\n",
    "#输出为两个张量，一个是循环神经网络的输出另一个是各个时间节点的状态\n",
    "outputs, (h_c, h_n) = tf.nn.dynamic_rnn(cell = rnn_cell,inputs = image, initial_state = None, dtype=tf.float32, time_major = False)\n",
    "#将循环神经网络最后一个输出作为mlp的输入，输出10分类的预测分布\n",
    "pred_y = tf.layers.dense(inputs = outputs[:,-1,:], units = 10)\n",
    "\n",
    "\n",
    "#通过tf.nn.softmax_cross_entropy_with_logits_v2定义交叉熵损失函数\n",
    "loss=tf.nn.softmax_cross_entropy_with_logits_v2(labels=gt_y,logits=pred_y)\n",
    "#通过tf.reduce_mean将多个样本的损失求均值\n",
    "loss=tf.reduce_mean(loss)\n",
    "#通过tf.train.GradientDescentOptimizer(lr).minimize(loss)定义学习率和梯度更新的方法\n",
    "optim = tf.train.GradientDescentOptimizer(0.2).minimize(loss)"
   ]
  },
  {
   "cell_type": "markdown",
   "metadata": {},
   "source": [
    "## RNN训练\n",
    "\n",
    "-训练量为1000"
   ]
  },
  {
   "cell_type": "code",
   "execution_count": 2,
   "metadata": {
    "tags": []
   },
   "outputs": [
    {
     "output_type": "stream",
     "name": "stdout",
     "text": "start training...\nstep 0 loss: 2.31\nstep 100 loss: 2.44\nstep 200 loss: 0.98\nstep 300 loss: 0.70\nstep 400 loss: 0.17\nstep 500 loss: 0.12\nstep 600 loss: 0.17\nstep 700 loss: 0.12\nstep 800 loss: 0.21\nstep 900 loss: 0.16\n0.9723\n"
    }
   ],
   "source": [
    "#初始化tensorflow\n",
    "with tf.Session() as sess:\n",
    "    #随机初始化参数\n",
    "    tf.global_variables_initializer().run()\n",
    "    print('start training...')\n",
    "\n",
    "    # training\n",
    "    for i in range(1000):\n",
    "        # 在mnist.train中取100个训练数据\n",
    "        # batch_xs是形状为(100, 784)的图像数据，batch_ys是形如(100, 10)的实际标签\n",
    "        # batch_xs, batch_ys对应着两个占位符x和y_\n",
    "        batch_xs, batch_ys = mnist.train.next_batch(100)\n",
    "        # 在Session中运行train_step，运行时要传入占位符的值\n",
    "        #参考sess.run运行tensorflow，包括执行的占位符和输入数据，返回执行占位符的列表\n",
    "        _,step_loss=sess.run([optim,loss], feed_dict={x: batch_xs, gt_y: batch_ys})\n",
    "        if i%100==0:\n",
    "          print('step {} loss: {:.2f}'.format(i,step_loss))\n",
    "\n",
    "    # test\n",
    "    # tf.equal逐个判断两个矩阵中元素是否相等，tf.argmax求一个矩阵中最大的下标值\n",
    "    correct_prediction = tf.equal(tf.argmax(pred_y, 1), tf.argmax(gt_y, 1))\n",
    "    #计算精度\n",
    "    accuracy = tf.reduce_mean(tf.cast(correct_prediction, tf.float32))\n",
    "    #输入精度的占位符和喂给测试数据\n",
    "    acc_res=sess.run(accuracy, feed_dict={x: mnist.test.images, gt_y: mnist.test.labels}) # 0.9723\n",
    "    print(acc_res)"
   ]
  },
  {
   "cell_type": "markdown",
   "metadata": {},
   "source": [
    "用RNN来分类MNIST数据集也有不错的效果，不过CNN在训练量更小时优势明显"
   ]
  }
 ]
}